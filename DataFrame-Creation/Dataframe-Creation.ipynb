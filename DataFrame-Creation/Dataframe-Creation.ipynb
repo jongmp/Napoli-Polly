{
 "cells": [
  {
   "cell_type": "code",
   "execution_count": 10,
   "id": "funded-network",
   "metadata": {},
   "outputs": [
    {
     "name": "stdout",
     "output_type": "stream",
     "text": [
      "2021-04-07 21:25:39      14621 french-crazy-glue-sticky.mp3\n",
      "2021-04-07 21:20:12      16502 french-croissant.mp3\n",
      "2021-04-07 21:22:32      18069 french-nearby-target.mp3\n",
      "2021-04-07 21:22:43      23712 french-th-sounds.mp3\n",
      "2021-04-07 21:46:04      10703 hindi-roll-row.mp3\n",
      "2021-04-07 21:40:20      16815 hindi-vine-wine.mp3\n",
      "2021-04-07 21:04:32      35153 spanish-batter-barter.mp3\n",
      "2021-04-07 21:02:46      31548 spanish-beat-bit.mp3\n",
      "2021-04-07 20:58:33      10703 spanish-look-luke.mp3\n",
      "2021-04-07 21:00:39      16502 spanish-note-not.mp3\n",
      "2021-04-07 20:59:35       8195 spanish-sheep-ship.mp3\n"
     ]
    }
   ],
   "source": [
    "!aws s3 ls napoli-project"
   ]
  },
  {
   "cell_type": "code",
   "execution_count": 25,
   "id": "returning-winner",
   "metadata": {},
   "outputs": [],
   "source": [
    "import boto3\n",
    "import s3fs\n",
    "import numpy as np\n",
    "import pandas as pd"
   ]
  },
  {
   "cell_type": "code",
   "execution_count": 18,
   "id": "south-power",
   "metadata": {},
   "outputs": [],
   "source": [
    "# Defining the resource that we are using (The S3 bucket)\n",
    "s3_resource = boto3.resource('s3') \n",
    "\n",
    "# Defining the clients that we will be using\n",
    "client = boto3.client('polly') \n",
    "client2 = boto3.client('transcribe')\n",
    "\n",
    "# Defining the bucket that we have our data in\n",
    "napoli_bucket = s3_resource.Bucket('napoli-project')"
   ]
  },
  {
   "cell_type": "code",
   "execution_count": 19,
   "id": "thick-practice",
   "metadata": {},
   "outputs": [],
   "source": [
    "# Creating a variable that holds all the objects in our S3 bucket\n",
    "summaries = napoli_bucket.objects.all()"
   ]
  },
  {
   "cell_type": "code",
   "execution_count": 21,
   "id": "prescription-series",
   "metadata": {},
   "outputs": [],
   "source": [
    "# Extracting the names from each mp3 file in the bucket\n",
    "mp3_names = [mp3.key for mp3 in summaries]"
   ]
  },
  {
   "cell_type": "code",
   "execution_count": 27,
   "id": "black-theory",
   "metadata": {},
   "outputs": [
    {
     "data": {
      "text/html": [
       "<div>\n",
       "<style scoped>\n",
       "    .dataframe tbody tr th:only-of-type {\n",
       "        vertical-align: middle;\n",
       "    }\n",
       "\n",
       "    .dataframe tbody tr th {\n",
       "        vertical-align: top;\n",
       "    }\n",
       "\n",
       "    .dataframe thead th {\n",
       "        text-align: right;\n",
       "    }\n",
       "</style>\n",
       "<table border=\"1\" class=\"dataframe\">\n",
       "  <thead>\n",
       "    <tr style=\"text-align: right;\">\n",
       "      <th></th>\n",
       "      <th>Names</th>\n",
       "    </tr>\n",
       "  </thead>\n",
       "  <tbody>\n",
       "    <tr>\n",
       "      <th>0</th>\n",
       "      <td>french-crazy-glue-sticky.mp3</td>\n",
       "    </tr>\n",
       "    <tr>\n",
       "      <th>1</th>\n",
       "      <td>french-croissant.mp3</td>\n",
       "    </tr>\n",
       "    <tr>\n",
       "      <th>2</th>\n",
       "      <td>french-nearby-target.mp3</td>\n",
       "    </tr>\n",
       "    <tr>\n",
       "      <th>3</th>\n",
       "      <td>french-th-sounds.mp3</td>\n",
       "    </tr>\n",
       "    <tr>\n",
       "      <th>4</th>\n",
       "      <td>hindi-roll-row.mp3</td>\n",
       "    </tr>\n",
       "    <tr>\n",
       "      <th>5</th>\n",
       "      <td>hindi-vine-wine.mp3</td>\n",
       "    </tr>\n",
       "    <tr>\n",
       "      <th>6</th>\n",
       "      <td>spanish-batter-barter.mp3</td>\n",
       "    </tr>\n",
       "    <tr>\n",
       "      <th>7</th>\n",
       "      <td>spanish-beat-bit.mp3</td>\n",
       "    </tr>\n",
       "    <tr>\n",
       "      <th>8</th>\n",
       "      <td>spanish-look-luke.mp3</td>\n",
       "    </tr>\n",
       "    <tr>\n",
       "      <th>9</th>\n",
       "      <td>spanish-note-not.mp3</td>\n",
       "    </tr>\n",
       "    <tr>\n",
       "      <th>10</th>\n",
       "      <td>spanish-sheep-ship.mp3</td>\n",
       "    </tr>\n",
       "  </tbody>\n",
       "</table>\n",
       "</div>"
      ],
      "text/plain": [
       "                           Names\n",
       "0   french-crazy-glue-sticky.mp3\n",
       "1           french-croissant.mp3\n",
       "2       french-nearby-target.mp3\n",
       "3           french-th-sounds.mp3\n",
       "4             hindi-roll-row.mp3\n",
       "5            hindi-vine-wine.mp3\n",
       "6      spanish-batter-barter.mp3\n",
       "7           spanish-beat-bit.mp3\n",
       "8          spanish-look-luke.mp3\n",
       "9           spanish-note-not.mp3\n",
       "10        spanish-sheep-ship.mp3"
      ]
     },
     "execution_count": 27,
     "metadata": {},
     "output_type": "execute_result"
    }
   ],
   "source": [
    "# Creating a new dataframe\n",
    "data=pd.DataFrame()\n",
    "\n",
    "# Adding the mp3 names to our dataframe\n",
    "data['Names'] = mp3_names\n",
    "data"
   ]
  },
  {
   "cell_type": "code",
   "execution_count": 32,
   "id": "caring-liechtenstein",
   "metadata": {},
   "outputs": [],
   "source": [
    "#response = client2.create_language_model(\n",
    "#    LanguageCode='en-US',\n",
    "#    BaseModelName='NarrowBand',\n",
    "#    ModelName='string',\n",
    "#    InputDataConfig={\n",
    "#        'S3Uri': 'string',\n",
    "#        'TuningDataS3Uri': 'string',\n",
    "#        'DataAccessRoleArn': 'string'\n",
    "#    }\n",
    "#)"
   ]
  },
  {
   "cell_type": "code",
   "execution_count": null,
   "id": "going-filing",
   "metadata": {},
   "outputs": [],
   "source": []
  }
 ],
 "metadata": {
  "kernelspec": {
   "display_name": "conda_python3",
   "language": "python",
   "name": "conda_python3"
  },
  "language_info": {
   "codemirror_mode": {
    "name": "ipython",
    "version": 3
   },
   "file_extension": ".py",
   "mimetype": "text/x-python",
   "name": "python",
   "nbconvert_exporter": "python",
   "pygments_lexer": "ipython3",
   "version": "3.6.13"
  }
 },
 "nbformat": 4,
 "nbformat_minor": 5
}
