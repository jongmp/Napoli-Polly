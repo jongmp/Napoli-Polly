{
  "nbformat": 4,
  "nbformat_minor": 0,
  "metadata": {
    "colab": {
      "name": "Blog-Draft.ipynb",
      "provenance": [],
      "authorship_tag": "ABX9TyOlB+0xiWBSWewPZi0JTWHf",
      "include_colab_link": true
    },
    "kernelspec": {
      "name": "python3",
      "display_name": "Python 3"
    },
    "language_info": {
      "name": "python"
    }
  },
  "cells": [
    {
      "cell_type": "markdown",
      "metadata": {
        "id": "view-in-github",
        "colab_type": "text"
      },
      "source": [
        "<a href=\"https://colab.research.google.com/github/jongmp/Napoli-Polly/blob/main/Blog_Draft.ipynb\" target=\"_parent\"><img src=\"https://colab.research.google.com/assets/colab-badge.svg\" alt=\"Open In Colab\"/></a>"
      ]
    },
    {
      "cell_type": "markdown",
      "metadata": {
        "id": "upyLrBG1EDt-"
      },
      "source": [
        "# Blog Post\n",
        "Our Team Will Publish All Information Here\n",
        "\n",
        "\n",
        "\n",
        "\n"
      ]
    },
    {
      "cell_type": "markdown",
      "metadata": {
        "id": "5bPQp-GiCf7m"
      },
      "source": [
        "## Why We Chose This Project:\n",
        "\n",
        "<a href=\"https://www.washingtonpost.com/graphics/2018/business/alexa-does-not-understand-your-accent/\">\n",
        "<img border=\"0\" alt=\"W3Schools\" src=\"https://www.androidheadlines.com/wp-content/uploads/2018/07/Globalme-Assistant-and-Alexa-test-1.jpg\" width=\"300\">\n",
        "</a>\n"
      ]
    }
  ]
}